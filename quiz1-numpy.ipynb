{
 "cells": [
  {
   "cell_type": "markdown",
   "id": "8765df67",
   "metadata": {},
   "source": [
    "# CMSC 197: Quiz 1\n",
    "### LESTER D. PIORQUE BSCS IV\n",
    "\n"
   ]
  },
  {
   "cell_type": "markdown",
   "id": "1e3d80e3",
   "metadata": {},
   "source": [
    "# Part 1"
   ]
  },
  {
   "cell_type": "code",
   "execution_count": 10,
   "id": "52fa7f82",
   "metadata": {
    "scrolled": false
   },
   "outputs": [
    {
     "name": "stdout",
     "output_type": "stream",
     "text": [
      "%pylab is deprecated, use %matplotlib inline and import the required libraries.\n",
      "Populating the interactive namespace from numpy and matplotlib\n"
     ]
    }
   ],
   "source": [
    "%pylab inline"
   ]
  },
  {
   "cell_type": "markdown",
   "id": "ccd5ad9e",
   "metadata": {},
   "source": [
    "#### Creating y_hat and y arrays"
   ]
  },
  {
   "cell_type": "code",
   "execution_count": 11,
   "id": "a73f9625",
   "metadata": {},
   "outputs": [
    {
     "data": {
      "text/plain": [
       "array([-1.        , -0.89473684, -0.78947368, -0.68421053, -0.57894737,\n",
       "       -0.47368421, -0.36842105, -0.26315789, -0.15789474, -0.05263158,\n",
       "        0.05263158,  0.15789474,  0.26315789,  0.36842105,  0.47368421,\n",
       "        0.57894737,  0.68421053,  0.78947368,  0.89473684,  1.        ])"
      ]
     },
     "execution_count": 11,
     "metadata": {},
     "output_type": "execute_result"
    }
   ],
   "source": [
    "y_hat = np.linspace(-1, 1, 20)   # array for y_hat with starting value, stop, and number of items\n",
    "#y_hat = y_hat.reshape(4,5)      # reshape turns the 1d array into 2d array \n",
    "y_hat"
   ]
  },
  {
   "cell_type": "code",
   "execution_count": 12,
   "id": "14103384",
   "metadata": {},
   "outputs": [
    {
     "data": {
      "text/plain": [
       "array([0.        , 0.05263158, 0.10526316, 0.15789474, 0.21052632,\n",
       "       0.26315789, 0.31578947, 0.36842105, 0.42105263, 0.47368421,\n",
       "       0.52631579, 0.57894737, 0.63157895, 0.68421053, 0.73684211,\n",
       "       0.78947368, 0.84210526, 0.89473684, 0.94736842, 1.        ])"
      ]
     },
     "execution_count": 12,
     "metadata": {},
     "output_type": "execute_result"
    }
   ],
   "source": [
    "y = np.linspace(0, 1, 20)        # array for y with starting value, stop, and number of items\n",
    "#y = y.reshape(4,5)              # reshape turns the 1d array into 2d array \n",
    "y"
   ]
  },
  {
   "cell_type": "markdown",
   "id": "34537064",
   "metadata": {},
   "source": [
    "#### Shape and dimension of two arrays"
   ]
  },
  {
   "cell_type": "code",
   "execution_count": 13,
   "id": "27a3f946",
   "metadata": {},
   "outputs": [
    {
     "data": {
      "text/plain": [
       "(20,)"
      ]
     },
     "execution_count": 13,
     "metadata": {},
     "output_type": "execute_result"
    }
   ],
   "source": [
    "y_hat.shape    # shape of y_hat"
   ]
  },
  {
   "cell_type": "code",
   "execution_count": 14,
   "id": "62e7250c",
   "metadata": {},
   "outputs": [
    {
     "data": {
      "text/plain": [
       "1"
      ]
     },
     "execution_count": 14,
     "metadata": {},
     "output_type": "execute_result"
    }
   ],
   "source": [
    "y_hat.ndim    # dimension which is 1D"
   ]
  },
  {
   "cell_type": "code",
   "execution_count": 15,
   "id": "9a78c74d",
   "metadata": {},
   "outputs": [
    {
     "data": {
      "text/plain": [
       "(20,)"
      ]
     },
     "execution_count": 15,
     "metadata": {},
     "output_type": "execute_result"
    }
   ],
   "source": [
    "y.shape        # shape of y"
   ]
  },
  {
   "cell_type": "code",
   "execution_count": 16,
   "id": "edb3a933",
   "metadata": {},
   "outputs": [
    {
     "data": {
      "text/plain": [
       "1"
      ]
     },
     "execution_count": 16,
     "metadata": {},
     "output_type": "execute_result"
    }
   ],
   "source": [
    "y.ndim        # dimension which is 1D"
   ]
  },
  {
   "cell_type": "markdown",
   "id": "d2579952",
   "metadata": {},
   "source": [
    "#### Function for MEAN SQUARED ERROR (MSE)"
   ]
  },
  {
   "cell_type": "code",
   "execution_count": 19,
   "id": "43958103",
   "metadata": {},
   "outputs": [
    {
     "name": "stdout",
     "output_type": "stream",
     "text": [
      "MEAN SQUARED ERROR = 0.3421052631578948\n"
     ]
    }
   ],
   "source": [
    "def mean_squared_error(y_hat, y):  # function name and parameters\n",
    "\n",
    "   diff = y_hat - y                # formula in getting the MSE\n",
    "   diff_squared = diff ** 2\n",
    "   L = diff_squared.mean()\n",
    "   \n",
    "   return L                        # L variable holds the result of the process\n",
    "\n",
    "print('MEAN SQUARED ERROR =',mean_squared_error(y_hat,y))"
   ]
  },
  {
   "cell_type": "markdown",
   "id": "3d4b422f",
   "metadata": {},
   "source": [
    "#### Function for MEAN ABSOLUTE ERROR (MAE)"
   ]
  },
  {
   "cell_type": "code",
   "execution_count": 20,
   "id": "4d3c4bfd",
   "metadata": {},
   "outputs": [
    {
     "name": "stdout",
     "output_type": "stream",
     "text": [
      "MEAN ABSOLUTE ERROR = 0.4999999999999999\n"
     ]
    }
   ],
   "source": [
    "def mean_absolute_error(y_hat, y):  # function name and parameters\n",
    "\n",
    "   diff = y_hat - y                 # formula in getting the MAE\n",
    "   diff_abs = np.absolute(diff)\n",
    "   L = diff_abs.mean()\n",
    "   \n",
    "   return L                         # L variable holds the result of the process\n",
    "\n",
    "print('MEAN ABSOLUTE ERROR =',mean_absolute_error(y_hat,y))"
   ]
  },
  {
   "cell_type": "markdown",
   "id": "6bc01f24",
   "metadata": {},
   "source": [
    "#### Function for MEAN SQUARED LOGARITHMIC ERROR (MSLE)"
   ]
  },
  {
   "cell_type": "code",
   "execution_count": 25,
   "id": "3e0bd278",
   "metadata": {},
   "outputs": [
    {
     "ename": "ValueError",
     "evalue": "negative numbers",
     "output_type": "error",
     "traceback": [
      "\u001b[1;31m---------------------------------------------------------------------------\u001b[0m",
      "\u001b[1;31mValueError\u001b[0m                                Traceback (most recent call last)",
      "Input \u001b[1;32mIn [25]\u001b[0m, in \u001b[0;36m<cell line: 13>\u001b[1;34m()\u001b[0m\n\u001b[0;32m     10\u001b[0m     \u001b[38;5;28;01melse\u001b[39;00m:\n\u001b[0;32m     11\u001b[0m         \u001b[38;5;28;01mraise\u001b[39;00m \u001b[38;5;167;01mValueError\u001b[39;00m(\u001b[38;5;124m\"\u001b[39m\u001b[38;5;124mnegative numbers\u001b[39m\u001b[38;5;124m\"\u001b[39m)            \u001b[38;5;66;03m# raise error if values are negative or zero\u001b[39;00m\n\u001b[1;32m---> 13\u001b[0m \u001b[38;5;28mprint\u001b[39m(\u001b[38;5;124m'\u001b[39m\u001b[38;5;124mMEAN SQUARED LOGARITHMIC ERROR =\u001b[39m\u001b[38;5;124m'\u001b[39m,\u001b[43mmean_squared_log_error\u001b[49m\u001b[43m(\u001b[49m\u001b[43my_hat\u001b[49m\u001b[43m,\u001b[49m\u001b[43my\u001b[49m\u001b[43m)\u001b[49m)\n",
      "Input \u001b[1;32mIn [25]\u001b[0m, in \u001b[0;36mmean_squared_log_error\u001b[1;34m(y_hat, y)\u001b[0m\n\u001b[0;32m      8\u001b[0m     \u001b[38;5;28;01mreturn\u001b[39;00m L\n\u001b[0;32m     10\u001b[0m \u001b[38;5;28;01melse\u001b[39;00m:\n\u001b[1;32m---> 11\u001b[0m     \u001b[38;5;28;01mraise\u001b[39;00m \u001b[38;5;167;01mValueError\u001b[39;00m(\u001b[38;5;124m\"\u001b[39m\u001b[38;5;124mnegative numbers\u001b[39m\u001b[38;5;124m\"\u001b[39m)\n",
      "\u001b[1;31mValueError\u001b[0m: negative numbers"
     ]
    }
   ],
   "source": [
    "def mean_squared_log_error(y_hat, y):\n",
    "\n",
    "    if (y_hat > 0).all() or (y > 0).all():   # condition will check for the values\n",
    "        sum_y_hat = np.log(y_hat+1)          # log 0 will be undefined\n",
    "        sum_y = np.log(y+1)\n",
    "        L = np.mean((sum_y_hat - sum_y)**2)\n",
    "\n",
    "        return L\n",
    "    \n",
    "    else:\n",
    "        raise ValueError(\"negative numbers\")            # raise error if values are negative or zero\n",
    "      \n",
    "print('MEAN SQUARED LOGARITHMIC ERROR =',mean_squared_log_error(y_hat,y))       \n",
    "# this function raised an error because the arrays contain negative numbers"
   ]
  },
  {
   "cell_type": "markdown",
   "id": "30e4ca8c",
   "metadata": {},
   "source": [
    "#### Function for MEAN ABSOLUTE PERCENTAGE ERROR (MAPE)"
   ]
  },
  {
   "cell_type": "code",
   "execution_count": 34,
   "id": "d7dc351d",
   "metadata": {},
   "outputs": [
    {
     "name": "stdout",
     "output_type": "stream",
     "text": [
      "MEAN ABSOLUTE PERCENTAGE ERROR = inf\n"
     ]
    },
    {
     "name": "stderr",
     "output_type": "stream",
     "text": [
      "C:\\Users\\Webb\\AppData\\Local\\Temp\\ipykernel_13084\\2514504794.py:4: RuntimeWarning: divide by zero encountered in true_divide\n",
      "  diff_1 = np.divide(diff, div)\n"
     ]
    }
   ],
   "source": [
    "def mean_absolute_percentage_error(y_hat, y):\n",
    "    diff = (y_hat - y)                 # formula for MAPE\n",
    "    div = (y != 0)\n",
    "    diff_1 = np.divide(diff, div)\n",
    "    diff_abs = np.absolute(diff_1)\n",
    "    sum = diff_abs.mean()\n",
    "    L = (0.05)*(sum)                  # result of the function\n",
    "    \n",
    "    return L\n",
    "\n",
    "print('MEAN ABSOLUTE PERCENTAGE ERROR =',mean_absolute_percentage_error(y_hat,y))\n",
    "# this function gave an infinite result because y array has a zero number"
   ]
  },
  {
   "cell_type": "markdown",
   "id": "b5a22ec8",
   "metadata": {},
   "source": [
    "\n",
    "\n",
    "# Part 2"
   ]
  },
  {
   "cell_type": "markdown",
   "id": "c7f4fad6",
   "metadata": {},
   "source": [
    "#### Creating 1D array M using the arrange function"
   ]
  },
  {
   "cell_type": "code",
   "execution_count": 35,
   "id": "de71fddd",
   "metadata": {},
   "outputs": [
    {
     "data": {
      "text/plain": [
       "array([ 1,  2,  3,  4,  5,  6,  7,  8,  9, 10, 11, 12, 13, 14, 15, 16])"
      ]
     },
     "execution_count": 35,
     "metadata": {},
     "output_type": "execute_result"
    }
   ],
   "source": [
    "M = np.arange(1, 17)    # creating an array M\n",
    "M"
   ]
  },
  {
   "cell_type": "markdown",
   "id": "8d67699d",
   "metadata": {},
   "source": [
    "#### Reshape the 1D array into 2D array"
   ]
  },
  {
   "cell_type": "code",
   "execution_count": 36,
   "id": "4f4d5642",
   "metadata": {},
   "outputs": [
    {
     "data": {
      "text/plain": [
       "array([[ 1,  2,  3,  4],\n",
       "       [ 5,  6,  7,  8],\n",
       "       [ 9, 10, 11, 12],\n",
       "       [13, 14, 15, 16]])"
      ]
     },
     "execution_count": 36,
     "metadata": {},
     "output_type": "execute_result"
    }
   ],
   "source": [
    "N = M.reshape(4, 4)    # reshaping the array into 2D\n",
    "N"
   ]
  },
  {
   "cell_type": "markdown",
   "id": "4e941e04",
   "metadata": {},
   "source": [
    "#### Getting the second row of N"
   ]
  },
  {
   "cell_type": "code",
   "execution_count": 37,
   "id": "fc5f8588",
   "metadata": {},
   "outputs": [
    {
     "data": {
      "text/plain": [
       "array([5, 6, 7, 8])"
      ]
     },
     "execution_count": 37,
     "metadata": {},
     "output_type": "execute_result"
    }
   ],
   "source": [
    "N[1]                  # calling the second row of N"
   ]
  },
  {
   "cell_type": "markdown",
   "id": "1c932068",
   "metadata": {},
   "source": [
    "#### The mininum values and location in each column"
   ]
  },
  {
   "cell_type": "code",
   "execution_count": 38,
   "id": "550ede9e",
   "metadata": {},
   "outputs": [
    {
     "data": {
      "text/plain": [
       "array([1, 2, 3, 4])"
      ]
     },
     "execution_count": 38,
     "metadata": {},
     "output_type": "execute_result"
    }
   ],
   "source": [
    "N.min(axis = 0)       # min values of each column"
   ]
  },
  {
   "cell_type": "code",
   "execution_count": 39,
   "id": "53c1d985",
   "metadata": {},
   "outputs": [
    {
     "data": {
      "text/plain": [
       "array([0, 0, 0, 0], dtype=int64)"
      ]
     },
     "execution_count": 39,
     "metadata": {},
     "output_type": "execute_result"
    }
   ],
   "source": [
    "N.argmin(axis = 0)    # indices of each min values"
   ]
  },
  {
   "cell_type": "markdown",
   "id": "deb1d9c3",
   "metadata": {},
   "source": [
    "#### The average of Matrix N"
   ]
  },
  {
   "cell_type": "code",
   "execution_count": 40,
   "id": "d2452fdf",
   "metadata": {},
   "outputs": [
    {
     "data": {
      "text/plain": [
       "8.5"
      ]
     },
     "execution_count": 40,
     "metadata": {},
     "output_type": "execute_result"
    }
   ],
   "source": [
    "N.mean()              # mean of the whole matrix"
   ]
  },
  {
   "cell_type": "markdown",
   "id": "a08eaafe",
   "metadata": {},
   "source": [
    "#### Creating vector V with 4 elements"
   ]
  },
  {
   "cell_type": "code",
   "execution_count": 41,
   "id": "ac132519",
   "metadata": {},
   "outputs": [],
   "source": [
    "V = np.array([1, 1, 1, 1])  # creating another vector with four elements"
   ]
  },
  {
   "cell_type": "markdown",
   "id": "a7ed8270",
   "metadata": {},
   "source": [
    "#### The dot product of N and V"
   ]
  },
  {
   "cell_type": "code",
   "execution_count": 42,
   "id": "0d5efde5",
   "metadata": {},
   "outputs": [
    {
     "data": {
      "text/plain": [
       "array([10, 26, 42, 58])"
      ]
     },
     "execution_count": 42,
     "metadata": {},
     "output_type": "execute_result"
    }
   ],
   "source": [
    "np.dot(N, V)          # solving for the dot product of matrix N and V"
   ]
  },
  {
   "cell_type": "code",
   "execution_count": null,
   "id": "ec6ca95d",
   "metadata": {},
   "outputs": [],
   "source": []
  }
 ],
 "metadata": {
  "kernelspec": {
   "display_name": "Python 3 (ipykernel)",
   "language": "python",
   "name": "python3"
  },
  "language_info": {
   "codemirror_mode": {
    "name": "ipython",
    "version": 3
   },
   "file_extension": ".py",
   "mimetype": "text/x-python",
   "name": "python",
   "nbconvert_exporter": "python",
   "pygments_lexer": "ipython3",
   "version": "3.9.12"
  }
 },
 "nbformat": 4,
 "nbformat_minor": 5
}
